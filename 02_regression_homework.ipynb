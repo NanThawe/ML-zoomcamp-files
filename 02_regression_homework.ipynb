{
  "cells": [
    {
      "cell_type": "markdown",
      "metadata": {
        "id": "view-in-github",
        "colab_type": "text"
      },
      "source": [
        "<a href=\"https://colab.research.google.com/github/NanThawe/ML-zoomcamp-files/blob/main/02_regression_homework.ipynb\" target=\"_parent\"><img src=\"https://colab.research.google.com/assets/colab-badge.svg\" alt=\"Open In Colab\"/></a>"
      ]
    },
    {
      "cell_type": "code",
      "source": [
        "!wget https://raw.githubusercontent.com/alexeygrigorev/datasets/master/housing.csv"
      ],
      "metadata": {
        "id": "IATbAnY5XNKa",
        "outputId": "09d2e661-2424-43f0-e95d-3ed99936ca9a",
        "colab": {
          "base_uri": "https://localhost:8080/"
        }
      },
      "execution_count": null,
      "outputs": [
        {
          "output_type": "stream",
          "name": "stdout",
          "text": [
            "--2023-09-25 17:25:03--  https://raw.githubusercontent.com/alexeygrigorev/datasets/master/housing.csv\n",
            "Resolving raw.githubusercontent.com (raw.githubusercontent.com)... 185.199.108.133, 185.199.109.133, 185.199.110.133, ...\n",
            "Connecting to raw.githubusercontent.com (raw.githubusercontent.com)|185.199.108.133|:443... connected.\n",
            "HTTP request sent, awaiting response... 200 OK\n",
            "Length: 1423529 (1.4M) [text/plain]\n",
            "Saving to: ‘housing.csv.1’\n",
            "\n",
            "housing.csv.1       100%[===================>]   1.36M  --.-KB/s    in 0.08s   \n",
            "\n",
            "2023-09-25 17:25:03 (18.1 MB/s) - ‘housing.csv.1’ saved [1423529/1423529]\n",
            "\n"
          ]
        }
      ]
    },
    {
      "cell_type": "markdown",
      "source": [
        "##EDA"
      ],
      "metadata": {
        "id": "8W-x4N8dYTDK"
      }
    },
    {
      "cell_type": "code",
      "source": [
        "import pandas as pd\n",
        "import numpy as np\n",
        "from sklearn.linear_model import LinearRegression\n",
        "import matplotlib.pyplot as plt\n",
        "import seaborn as sns\n",
        "\n",
        "%matplotlib inline"
      ],
      "metadata": {
        "id": "z-m2bSbWYEUY"
      },
      "execution_count": null,
      "outputs": []
    },
    {
      "cell_type": "code",
      "source": [
        "columns = [\"longitude\", \"latitude\", \"housing_median_age\", \"total_rooms\", \"total_bedrooms\", \"population\", \"households\", \"median_income\", \"median_house_value\"]\n",
        "data = pd.read_csv('housing.csv', usecols=columns)"
      ],
      "metadata": {
        "id": "rhzGBVtRaJ5j"
      },
      "execution_count": null,
      "outputs": []
    },
    {
      "cell_type": "code",
      "source": [
        "print(data.shape)\n",
        "data.head()"
      ],
      "metadata": {
        "id": "z4vZCAgwbza7",
        "outputId": "dddb7cfb-2878-4271-ecd8-1ee90c5fae85",
        "colab": {
          "base_uri": "https://localhost:8080/",
          "height": 244
        }
      },
      "execution_count": null,
      "outputs": [
        {
          "output_type": "stream",
          "name": "stdout",
          "text": [
            "(20640, 9)\n"
          ]
        },
        {
          "output_type": "execute_result",
          "data": {
            "text/plain": [
              "   longitude  latitude  housing_median_age  total_rooms  total_bedrooms  \\\n",
              "0    -122.23     37.88                41.0        880.0           129.0   \n",
              "1    -122.22     37.86                21.0       7099.0          1106.0   \n",
              "2    -122.24     37.85                52.0       1467.0           190.0   \n",
              "3    -122.25     37.85                52.0       1274.0           235.0   \n",
              "4    -122.25     37.85                52.0       1627.0           280.0   \n",
              "\n",
              "   population  households  median_income  median_house_value  \n",
              "0       322.0       126.0         8.3252            452600.0  \n",
              "1      2401.0      1138.0         8.3014            358500.0  \n",
              "2       496.0       177.0         7.2574            352100.0  \n",
              "3       558.0       219.0         5.6431            341300.0  \n",
              "4       565.0       259.0         3.8462            342200.0  "
            ],
            "text/html": [
              "\n",
              "  <div id=\"df-71471175-c863-4bb4-ac44-9e37aab4d041\" class=\"colab-df-container\">\n",
              "    <div>\n",
              "<style scoped>\n",
              "    .dataframe tbody tr th:only-of-type {\n",
              "        vertical-align: middle;\n",
              "    }\n",
              "\n",
              "    .dataframe tbody tr th {\n",
              "        vertical-align: top;\n",
              "    }\n",
              "\n",
              "    .dataframe thead th {\n",
              "        text-align: right;\n",
              "    }\n",
              "</style>\n",
              "<table border=\"1\" class=\"dataframe\">\n",
              "  <thead>\n",
              "    <tr style=\"text-align: right;\">\n",
              "      <th></th>\n",
              "      <th>longitude</th>\n",
              "      <th>latitude</th>\n",
              "      <th>housing_median_age</th>\n",
              "      <th>total_rooms</th>\n",
              "      <th>total_bedrooms</th>\n",
              "      <th>population</th>\n",
              "      <th>households</th>\n",
              "      <th>median_income</th>\n",
              "      <th>median_house_value</th>\n",
              "    </tr>\n",
              "  </thead>\n",
              "  <tbody>\n",
              "    <tr>\n",
              "      <th>0</th>\n",
              "      <td>-122.23</td>\n",
              "      <td>37.88</td>\n",
              "      <td>41.0</td>\n",
              "      <td>880.0</td>\n",
              "      <td>129.0</td>\n",
              "      <td>322.0</td>\n",
              "      <td>126.0</td>\n",
              "      <td>8.3252</td>\n",
              "      <td>452600.0</td>\n",
              "    </tr>\n",
              "    <tr>\n",
              "      <th>1</th>\n",
              "      <td>-122.22</td>\n",
              "      <td>37.86</td>\n",
              "      <td>21.0</td>\n",
              "      <td>7099.0</td>\n",
              "      <td>1106.0</td>\n",
              "      <td>2401.0</td>\n",
              "      <td>1138.0</td>\n",
              "      <td>8.3014</td>\n",
              "      <td>358500.0</td>\n",
              "    </tr>\n",
              "    <tr>\n",
              "      <th>2</th>\n",
              "      <td>-122.24</td>\n",
              "      <td>37.85</td>\n",
              "      <td>52.0</td>\n",
              "      <td>1467.0</td>\n",
              "      <td>190.0</td>\n",
              "      <td>496.0</td>\n",
              "      <td>177.0</td>\n",
              "      <td>7.2574</td>\n",
              "      <td>352100.0</td>\n",
              "    </tr>\n",
              "    <tr>\n",
              "      <th>3</th>\n",
              "      <td>-122.25</td>\n",
              "      <td>37.85</td>\n",
              "      <td>52.0</td>\n",
              "      <td>1274.0</td>\n",
              "      <td>235.0</td>\n",
              "      <td>558.0</td>\n",
              "      <td>219.0</td>\n",
              "      <td>5.6431</td>\n",
              "      <td>341300.0</td>\n",
              "    </tr>\n",
              "    <tr>\n",
              "      <th>4</th>\n",
              "      <td>-122.25</td>\n",
              "      <td>37.85</td>\n",
              "      <td>52.0</td>\n",
              "      <td>1627.0</td>\n",
              "      <td>280.0</td>\n",
              "      <td>565.0</td>\n",
              "      <td>259.0</td>\n",
              "      <td>3.8462</td>\n",
              "      <td>342200.0</td>\n",
              "    </tr>\n",
              "  </tbody>\n",
              "</table>\n",
              "</div>\n",
              "    <div class=\"colab-df-buttons\">\n",
              "\n",
              "  <div class=\"colab-df-container\">\n",
              "    <button class=\"colab-df-convert\" onclick=\"convertToInteractive('df-71471175-c863-4bb4-ac44-9e37aab4d041')\"\n",
              "            title=\"Convert this dataframe to an interactive table.\"\n",
              "            style=\"display:none;\">\n",
              "\n",
              "  <svg xmlns=\"http://www.w3.org/2000/svg\" height=\"24px\" viewBox=\"0 -960 960 960\">\n",
              "    <path d=\"M120-120v-720h720v720H120Zm60-500h600v-160H180v160Zm220 220h160v-160H400v160Zm0 220h160v-160H400v160ZM180-400h160v-160H180v160Zm440 0h160v-160H620v160ZM180-180h160v-160H180v160Zm440 0h160v-160H620v160Z\"/>\n",
              "  </svg>\n",
              "    </button>\n",
              "\n",
              "  <style>\n",
              "    .colab-df-container {\n",
              "      display:flex;\n",
              "      gap: 12px;\n",
              "    }\n",
              "\n",
              "    .colab-df-convert {\n",
              "      background-color: #E8F0FE;\n",
              "      border: none;\n",
              "      border-radius: 50%;\n",
              "      cursor: pointer;\n",
              "      display: none;\n",
              "      fill: #1967D2;\n",
              "      height: 32px;\n",
              "      padding: 0 0 0 0;\n",
              "      width: 32px;\n",
              "    }\n",
              "\n",
              "    .colab-df-convert:hover {\n",
              "      background-color: #E2EBFA;\n",
              "      box-shadow: 0px 1px 2px rgba(60, 64, 67, 0.3), 0px 1px 3px 1px rgba(60, 64, 67, 0.15);\n",
              "      fill: #174EA6;\n",
              "    }\n",
              "\n",
              "    .colab-df-buttons div {\n",
              "      margin-bottom: 4px;\n",
              "    }\n",
              "\n",
              "    [theme=dark] .colab-df-convert {\n",
              "      background-color: #3B4455;\n",
              "      fill: #D2E3FC;\n",
              "    }\n",
              "\n",
              "    [theme=dark] .colab-df-convert:hover {\n",
              "      background-color: #434B5C;\n",
              "      box-shadow: 0px 1px 3px 1px rgba(0, 0, 0, 0.15);\n",
              "      filter: drop-shadow(0px 1px 2px rgba(0, 0, 0, 0.3));\n",
              "      fill: #FFFFFF;\n",
              "    }\n",
              "  </style>\n",
              "\n",
              "    <script>\n",
              "      const buttonEl =\n",
              "        document.querySelector('#df-71471175-c863-4bb4-ac44-9e37aab4d041 button.colab-df-convert');\n",
              "      buttonEl.style.display =\n",
              "        google.colab.kernel.accessAllowed ? 'block' : 'none';\n",
              "\n",
              "      async function convertToInteractive(key) {\n",
              "        const element = document.querySelector('#df-71471175-c863-4bb4-ac44-9e37aab4d041');\n",
              "        const dataTable =\n",
              "          await google.colab.kernel.invokeFunction('convertToInteractive',\n",
              "                                                    [key], {});\n",
              "        if (!dataTable) return;\n",
              "\n",
              "        const docLinkHtml = 'Like what you see? Visit the ' +\n",
              "          '<a target=\"_blank\" href=https://colab.research.google.com/notebooks/data_table.ipynb>data table notebook</a>'\n",
              "          + ' to learn more about interactive tables.';\n",
              "        element.innerHTML = '';\n",
              "        dataTable['output_type'] = 'display_data';\n",
              "        await google.colab.output.renderOutput(dataTable, element);\n",
              "        const docLink = document.createElement('div');\n",
              "        docLink.innerHTML = docLinkHtml;\n",
              "        element.appendChild(docLink);\n",
              "      }\n",
              "    </script>\n",
              "  </div>\n",
              "\n",
              "\n",
              "<div id=\"df-7c0e2043-ef8c-48ec-b6de-43cc8bf0ab06\">\n",
              "  <button class=\"colab-df-quickchart\" onclick=\"quickchart('df-7c0e2043-ef8c-48ec-b6de-43cc8bf0ab06')\"\n",
              "            title=\"Suggest charts.\"\n",
              "            style=\"display:none;\">\n",
              "\n",
              "<svg xmlns=\"http://www.w3.org/2000/svg\" height=\"24px\"viewBox=\"0 0 24 24\"\n",
              "     width=\"24px\">\n",
              "    <g>\n",
              "        <path d=\"M19 3H5c-1.1 0-2 .9-2 2v14c0 1.1.9 2 2 2h14c1.1 0 2-.9 2-2V5c0-1.1-.9-2-2-2zM9 17H7v-7h2v7zm4 0h-2V7h2v10zm4 0h-2v-4h2v4z\"/>\n",
              "    </g>\n",
              "</svg>\n",
              "  </button>\n",
              "\n",
              "<style>\n",
              "  .colab-df-quickchart {\n",
              "      --bg-color: #E8F0FE;\n",
              "      --fill-color: #1967D2;\n",
              "      --hover-bg-color: #E2EBFA;\n",
              "      --hover-fill-color: #174EA6;\n",
              "      --disabled-fill-color: #AAA;\n",
              "      --disabled-bg-color: #DDD;\n",
              "  }\n",
              "\n",
              "  [theme=dark] .colab-df-quickchart {\n",
              "      --bg-color: #3B4455;\n",
              "      --fill-color: #D2E3FC;\n",
              "      --hover-bg-color: #434B5C;\n",
              "      --hover-fill-color: #FFFFFF;\n",
              "      --disabled-bg-color: #3B4455;\n",
              "      --disabled-fill-color: #666;\n",
              "  }\n",
              "\n",
              "  .colab-df-quickchart {\n",
              "    background-color: var(--bg-color);\n",
              "    border: none;\n",
              "    border-radius: 50%;\n",
              "    cursor: pointer;\n",
              "    display: none;\n",
              "    fill: var(--fill-color);\n",
              "    height: 32px;\n",
              "    padding: 0;\n",
              "    width: 32px;\n",
              "  }\n",
              "\n",
              "  .colab-df-quickchart:hover {\n",
              "    background-color: var(--hover-bg-color);\n",
              "    box-shadow: 0 1px 2px rgba(60, 64, 67, 0.3), 0 1px 3px 1px rgba(60, 64, 67, 0.15);\n",
              "    fill: var(--button-hover-fill-color);\n",
              "  }\n",
              "\n",
              "  .colab-df-quickchart-complete:disabled,\n",
              "  .colab-df-quickchart-complete:disabled:hover {\n",
              "    background-color: var(--disabled-bg-color);\n",
              "    fill: var(--disabled-fill-color);\n",
              "    box-shadow: none;\n",
              "  }\n",
              "\n",
              "  .colab-df-spinner {\n",
              "    border: 2px solid var(--fill-color);\n",
              "    border-color: transparent;\n",
              "    border-bottom-color: var(--fill-color);\n",
              "    animation:\n",
              "      spin 1s steps(1) infinite;\n",
              "  }\n",
              "\n",
              "  @keyframes spin {\n",
              "    0% {\n",
              "      border-color: transparent;\n",
              "      border-bottom-color: var(--fill-color);\n",
              "      border-left-color: var(--fill-color);\n",
              "    }\n",
              "    20% {\n",
              "      border-color: transparent;\n",
              "      border-left-color: var(--fill-color);\n",
              "      border-top-color: var(--fill-color);\n",
              "    }\n",
              "    30% {\n",
              "      border-color: transparent;\n",
              "      border-left-color: var(--fill-color);\n",
              "      border-top-color: var(--fill-color);\n",
              "      border-right-color: var(--fill-color);\n",
              "    }\n",
              "    40% {\n",
              "      border-color: transparent;\n",
              "      border-right-color: var(--fill-color);\n",
              "      border-top-color: var(--fill-color);\n",
              "    }\n",
              "    60% {\n",
              "      border-color: transparent;\n",
              "      border-right-color: var(--fill-color);\n",
              "    }\n",
              "    80% {\n",
              "      border-color: transparent;\n",
              "      border-right-color: var(--fill-color);\n",
              "      border-bottom-color: var(--fill-color);\n",
              "    }\n",
              "    90% {\n",
              "      border-color: transparent;\n",
              "      border-bottom-color: var(--fill-color);\n",
              "    }\n",
              "  }\n",
              "</style>\n",
              "\n",
              "  <script>\n",
              "    async function quickchart(key) {\n",
              "      const quickchartButtonEl =\n",
              "        document.querySelector('#' + key + ' button');\n",
              "      quickchartButtonEl.disabled = true;  // To prevent multiple clicks.\n",
              "      quickchartButtonEl.classList.add('colab-df-spinner');\n",
              "      try {\n",
              "        const charts = await google.colab.kernel.invokeFunction(\n",
              "            'suggestCharts', [key], {});\n",
              "      } catch (error) {\n",
              "        console.error('Error during call to suggestCharts:', error);\n",
              "      }\n",
              "      quickchartButtonEl.classList.remove('colab-df-spinner');\n",
              "      quickchartButtonEl.classList.add('colab-df-quickchart-complete');\n",
              "    }\n",
              "    (() => {\n",
              "      let quickchartButtonEl =\n",
              "        document.querySelector('#df-7c0e2043-ef8c-48ec-b6de-43cc8bf0ab06 button');\n",
              "      quickchartButtonEl.style.display =\n",
              "        google.colab.kernel.accessAllowed ? 'block' : 'none';\n",
              "    })();\n",
              "  </script>\n",
              "</div>\n",
              "    </div>\n",
              "  </div>\n"
            ]
          },
          "metadata": {},
          "execution_count": 73
        }
      ]
    },
    {
      "cell_type": "code",
      "source": [
        "sns.histplot(data.median_house_value, bins=60)\n"
      ],
      "metadata": {
        "id": "Lk4r9T7Ibo6e",
        "outputId": "c774857f-dddd-498d-eb29-3d1f7dc8fb7c",
        "colab": {
          "base_uri": "https://localhost:8080/",
          "height": 468
        }
      },
      "execution_count": null,
      "outputs": [
        {
          "output_type": "execute_result",
          "data": {
            "text/plain": [
              "<Axes: xlabel='median_house_value', ylabel='Count'>"
            ]
          },
          "metadata": {},
          "execution_count": 74
        },
        {
          "output_type": "display_data",
          "data": {
            "text/plain": [
              "<Figure size 640x480 with 1 Axes>"
            ],
            "image/png": "[encoded data removed]"
          },
          "metadata": {}
        }
      ]
    },
    {
      "cell_type": "markdown",
      "source": [
        "#Preparing the dataset\n"
      ],
      "metadata": {
        "id": "YTNCITFYcUBx"
      }
    },
    {
      "cell_type": "markdown",
      "source": [
        "Question 1"
      ],
      "metadata": {
        "id": "LaDNyMAUm2k9"
      }
    },
    {
      "cell_type": "code",
      "source": [
        "data.isnull().sum()"
      ],
      "metadata": {
        "id": "BTxTxKkLm35S",
        "outputId": "348e1e4b-4189-45a1-a22d-f092f425786b",
        "colab": {
          "base_uri": "https://localhost:8080/"
        }
      },
      "execution_count": null,
      "outputs": [
        {
          "output_type": "execute_result",
          "data": {
            "text/plain": [
              "longitude               0\n",
              "latitude                0\n",
              "housing_median_age      0\n",
              "total_rooms             0\n",
              "total_bedrooms        207\n",
              "population              0\n",
              "households              0\n",
              "median_income           0\n",
              "median_house_value      0\n",
              "dtype: int64"
            ]
          },
          "metadata": {},
          "execution_count": 75
        }
      ]
    },
    {
      "cell_type": "markdown",
      "source": [
        "Question 2"
      ],
      "metadata": {
        "id": "YXPc9qEynqN5"
      }
    },
    {
      "cell_type": "code",
      "source": [
        "median = data['population'].median()\n",
        "median"
      ],
      "metadata": {
        "id": "_XJb5O1Bnpht",
        "outputId": "c7480c0f-394a-4347-e1e2-47ad4d4110bb",
        "colab": {
          "base_uri": "https://localhost:8080/"
        }
      },
      "execution_count": null,
      "outputs": [
        {
          "output_type": "execute_result",
          "data": {
            "text/plain": [
              "1166.0"
            ]
          },
          "metadata": {},
          "execution_count": 76
        }
      ]
    },
    {
      "cell_type": "code",
      "source": [
        "np.log1p(data.median_house_value)\n",
        "\n"
      ],
      "metadata": {
        "id": "dToxYFPmow-l",
        "outputId": "725756e5-6fd2-48cc-af0b-d82eaa6c501f",
        "colab": {
          "base_uri": "https://localhost:8080/"
        }
      },
      "execution_count": null,
      "outputs": [
        {
          "output_type": "execute_result",
          "data": {
            "text/plain": [
              "0        13.022766\n",
              "1        12.789687\n",
              "2        12.771673\n",
              "3        12.740520\n",
              "4        12.743154\n",
              "           ...    \n",
              "20635    11.265758\n",
              "20636    11.252872\n",
              "20637    11.432810\n",
              "20638    11.346883\n",
              "20639    11.400887\n",
              "Name: median_house_value, Length: 20640, dtype: float64"
            ]
          },
          "metadata": {},
          "execution_count": 77
        }
      ]
    },
    {
      "cell_type": "code",
      "source": [
        "n = len(data)\n",
        "n_val = int(0.2 * n)\n",
        "n_test = int(0.2 * n)\n",
        "n_train = n - (n_val + n_test)"
      ],
      "metadata": {
        "id": "TRYbVrhdTlnn"
      },
      "execution_count": null,
      "outputs": []
    },
    {
      "cell_type": "code",
      "source": [
        "idx = np.arange(n)\n",
        "np.random.seed(42)\n",
        "np.random.shuffle(idx)\n",
        "df_shuffled = data.iloc[idx]"
      ],
      "metadata": {
        "id": "sSZL1ffTofB5"
      },
      "execution_count": null,
      "outputs": []
    },
    {
      "cell_type": "code",
      "source": [
        "df_train = df_shuffled.iloc[:n_train].copy()\n",
        "df_val = df_shuffled.iloc[n_train:n_train+n_val].copy()\n",
        "df_test = df_shuffled.iloc[n_train+n_val:].copy()"
      ],
      "metadata": {
        "id": "DliOuSqNsJsZ"
      },
      "execution_count": null,
      "outputs": []
    },
    {
      "cell_type": "code",
      "source": [
        "df_train = df_train.reset_index(drop=True)\n",
        "df_val = df_val.reset_index(drop=True)\n",
        "df_test = df_test.reset_index(drop=True)"
      ],
      "metadata": {
        "id": "ZTtRHLO5sTey"
      },
      "execution_count": null,
      "outputs": []
    },
    {
      "cell_type": "code",
      "source": [
        "y_train_og = df_train.median_house_value.values\n",
        "y_val_og = df_val.median_house_value.values\n",
        "y_test_og = df_test.median_house_value.values\n",
        "\n",
        "y_train = np.log1p(y_train_og)\n",
        "y_val = np.log1p(y_val_og)\n",
        "y_test = np.log1p(y_test_og)"
      ],
      "metadata": {
        "id": "g_O3Q6Xusb_w"
      },
      "execution_count": null,
      "outputs": []
    },
    {
      "cell_type": "code",
      "source": [
        "del df_train['median_house_value']\n",
        "del df_val['median_house_value']\n",
        "del df_test['median_house_value']"
      ],
      "metadata": {
        "id": "V0GY1ZXPsiO8"
      },
      "execution_count": null,
      "outputs": []
    },
    {
      "cell_type": "markdown",
      "source": [
        "Question 3"
      ],
      "metadata": {
        "id": "zMt0QD34tE2Q"
      }
    },
    {
      "cell_type": "code",
      "source": [
        "#Linear regression\n",
        "def train_linear_regression(X, y):\n",
        "    ones = np.ones(X.shape[0])\n",
        "    X = np.column_stack([ones, X])\n",
        "\n",
        "    XTX = X.T.dot(X)\n",
        "    XTX_inv = np.linalg.inv(XTX)\n",
        "    w = XTX_inv.dot(X.T).dot(y)\n",
        "\n",
        "    return w[0], w[1:]"
      ],
      "metadata": {
        "id": "XQ54m95TvoUR"
      },
      "execution_count": null,
      "outputs": []
    },
    {
      "cell_type": "code",
      "source": [
        "base=[\"longitude\", \"latitude\", \"housing_median_age\", \"total_rooms\", \"total_bedrooms\",\n",
        "       \"population\", \"households\", \"median_income\"]"
      ],
      "metadata": {
        "id": "KcE1UYjt4LqF"
      },
      "execution_count": null,
      "outputs": []
    },
    {
      "cell_type": "code",
      "source": [
        "def prepare_X(df,fill_value):\n",
        "    df_num = df[base]\n",
        "    df_num = df_num.fillna(fill_value)\n",
        "    X = df_num.values\n",
        "    return X"
      ],
      "metadata": {
        "id": "TOkpzHwE49hb"
      },
      "execution_count": null,
      "outputs": []
    },
    {
      "cell_type": "code",
      "source": [
        "def rmse(y, y_pred):\n",
        "    error = y_pred - y\n",
        "    mse = (error ** 2).mean()\n",
        "    return np.sqrt(mse)"
      ],
      "metadata": {
        "id": "tf0flvxM54Hl"
      },
      "execution_count": null,
      "outputs": []
    },
    {
      "cell_type": "code",
      "source": [
        "#Option 1 = mean\n",
        "mean = df_train.total_bedrooms.mean()\n",
        "X_train_mean = prepare_X(df_train,fill_value = mean)\n",
        "w_0_mean, w_mean = train_linear_regression(X_train_mean, y_train)"
      ],
      "metadata": {
        "id": "ofgzDuzb64lO"
      },
      "execution_count": null,
      "outputs": []
    },
    {
      "cell_type": "code",
      "source": [
        "X_val_mean = prepare_X(df_val, fill_value=mean)\n",
        "y_mean_pred_val = w_0_mean + X_val_mean.dot(w_mean)"
      ],
      "metadata": {
        "id": "hXb_BD7N8XBu"
      },
      "execution_count": null,
      "outputs": []
    },
    {
      "cell_type": "code",
      "source": [
        "np.round(rmse(y_val, y_mean_pred_val),2)"
      ],
      "metadata": {
        "id": "tuRN1Zmv8oaz",
        "outputId": "a34c0375-cfb6-4e5d-a5eb-a0748702b845",
        "colab": {
          "base_uri": "https://localhost:8080/"
        }
      },
      "execution_count": null,
      "outputs": [
        {
          "output_type": "execute_result",
          "data": {
            "text/plain": [
              "0.33"
            ]
          },
          "metadata": {},
          "execution_count": 90
        }
      ]
    },
    {
      "cell_type": "code",
      "source": [
        "#Option 2 = zero\n",
        "X_train_zero = prepare_X(df_train, fill_value = 0)\n",
        "w_0_zero, w_zero = train_linear_regression(X_train_zero, y_train)"
      ],
      "metadata": {
        "id": "t6I9ONlr80yp"
      },
      "execution_count": null,
      "outputs": []
    },
    {
      "cell_type": "code",
      "source": [
        "X_val_zero = prepare_X(df_val, fill_value=0)\n",
        "y_zero_pred_val = w_0_zero + X_val_zero.dot(w_zero)"
      ],
      "metadata": {
        "id": "oV9XFaac9ZWO"
      },
      "execution_count": null,
      "outputs": []
    },
    {
      "cell_type": "code",
      "source": [
        "np.round(rmse(y_val, y_zero_pred_val),2)"
      ],
      "metadata": {
        "id": "jHbGkVqY9nzR",
        "outputId": "287c2279-da5c-4270-f5da-a18cf48ec102",
        "colab": {
          "base_uri": "https://localhost:8080/"
        }
      },
      "execution_count": null,
      "outputs": [
        {
          "output_type": "execute_result",
          "data": {
            "text/plain": [
              "0.33"
            ]
          },
          "metadata": {},
          "execution_count": 93
        }
      ]
    },
    {
      "cell_type": "markdown",
      "source": [
        "Question 4"
      ],
      "metadata": {
        "id": "CDDgfQUp9222"
      }
    },
    {
      "cell_type": "code",
      "source": [
        "def train_linear_regression_reg(X, y, r=0.001):\n",
        "    ones = np.ones(X.shape[0])\n",
        "    X = np.column_stack([ones, X])\n",
        "\n",
        "    XTX = X.T.dot(X)\n",
        "    XTX = XTX + r * np.eye(XTX.shape[0])\n",
        "\n",
        "    XTX_inv = np.linalg.inv(XTX)\n",
        "    w_full = XTX_inv.dot(X.T).dot(y)\n",
        "\n",
        "    return w_full[0], w_full[1:]"
      ],
      "metadata": {
        "id": "Qv6pwy1V94NO"
      },
      "execution_count": null,
      "outputs": []
    },
    {
      "cell_type": "code",
      "source": [
        "for r in [0.0, 0.00001, 0.0001, 0.001, 0.1, 1, 10]:\n",
        "    w0, w = train_linear_regression_reg(X_train_zero, y_train, r=r)\n",
        "\n",
        "    y_zero_val = w0 + X_val_zero.dot(w)\n",
        "    score = np.round(rmse(y_val, y_zero_val),2)\n",
        "\n",
        "    print(r, w0, score)"
      ],
      "metadata": {
        "id": "Qly2czq3-mVw",
        "outputId": "48df0318-ecbb-4bb9-cda6-22e7682878bc",
        "colab": {
          "base_uri": "https://localhost:8080/"
        }
      },
      "execution_count": null,
      "outputs": [
        {
          "output_type": "stream",
          "name": "stdout",
          "text": [
            "0.0 -11.686975242036546 0.33\n",
            "1e-05 -11.68681458438968 0.33\n",
            "0.0001 -11.685368865034667 0.33\n",
            "0.001 -11.670931317799797 0.33\n",
            "0.1 -10.274500282195673 0.33\n",
            "1 -4.920480897742212 0.33\n",
            "10 -0.7899311831779245 0.34\n"
          ]
        }
      ]
    },
    {
      "cell_type": "markdown",
      "source": [
        "Question 5"
      ],
      "metadata": {
        "id": "g4oFmtaGG4l5"
      }
    },
    {
      "cell_type": "code",
      "source": [
        "list_rmse = []\n",
        "\n",
        "for r in [0, 1, 2, 3, 4, 5, 6, 7, 8, 9]:\n",
        "  idx = np.arange(n)\n",
        "  np.random.seed(r)\n",
        "  np.random.shuffle(idx)\n",
        "  df_shuffled = data.iloc[idx]\n",
        "\n",
        "  df_train = df_shuffled.iloc[:n_train].copy()\n",
        "  df_val = df_shuffled.iloc[n_train:n_train+n_val].copy()\n",
        "  df_test = df_shuffled.iloc[n_train+n_val:].copy()\n",
        "\n",
        "  df_train = df_train.reset_index(drop=True)\n",
        "  df_val = df_val.reset_index(drop=True)\n",
        "  df_test = df_test.reset_index(drop=True)\n",
        "\n",
        "  y_train_og = df_train.median_house_value.values\n",
        "  y_val_og = df_val.median_house_value.values\n",
        "  y_test_og = df_test.median_house_value.values\n",
        "\n",
        "  y_train = np.log1p(y_train_og)\n",
        "  y_val = np.log1p(y_val_og)\n",
        "  y_test = np.log1p(y_test_og)\n",
        "\n",
        "  del df_train['median_house_value']\n",
        "  del df_val['median_house_value']\n",
        "  del df_test['median_house_value']\n",
        "\n",
        "  X_train_zero = prepare_X(df_train, fill_value = 0)\n",
        "  w_0, w = train_linear_regression(X_train_zero, y_train)\n",
        "\n",
        "  X_val_zero = prepare_X(df_val, fill_value=0)\n",
        "  y_zero_pred_val = w_0 + X_val_zero.dot(w)\n",
        "\n",
        "  rmse_val = np.round(rmse(y_val, y_zero_pred_val),2)\n",
        "  list_rmse.append(rmse_val)\n",
        "\n",
        "  print(r, w_0, rmse_val)\n"
      ],
      "metadata": {
        "id": "HkT_5wbYG4aZ",
        "outputId": "7ef6b229-b7dc-455b-9f0c-735b4da81910",
        "colab": {
          "base_uri": "https://localhost:8080/"
        }
      },
      "execution_count": null,
      "outputs": [
        {
          "output_type": "stream",
          "name": "stdout",
          "text": [
            "0 -11.900382138125133 0.34\n",
            "1 -11.732757372921618 0.34\n",
            "2 -11.806729361193014 0.33\n",
            "3 -11.587900347753235 0.34\n",
            "4 -11.38947058831824 0.34\n",
            "5 -11.447114275587968 0.34\n",
            "6 -11.370516351548385 0.35\n",
            "7 -12.47344891889502 0.34\n",
            "8 -11.800287429792748 0.35\n",
            "9 -11.459046830736924 0.34\n"
          ]
        }
      ]
    },
    {
      "cell_type": "code",
      "source": [
        "np.round(np.std(list_rmse),3)"
      ],
      "metadata": {
        "id": "-j-hGUmUbZWc",
        "outputId": "681ed56c-636c-403a-ead4-2020a634722d",
        "colab": {
          "base_uri": "https://localhost:8080/"
        }
      },
      "execution_count": null,
      "outputs": [
        {
          "output_type": "execute_result",
          "data": {
            "text/plain": [
              "0.005"
            ]
          },
          "metadata": {},
          "execution_count": 107
        }
      ]
    },
    {
      "cell_type": "markdown",
      "source": [
        "Question 5"
      ],
      "metadata": {
        "id": "yDM9o7_dctuF"
      }
    },
    {
      "cell_type": "code",
      "source": [
        "def train_linear_regression_regular(X, y, r=0.0):\n",
        "    ones = np.ones(X.shape[0])\n",
        "    X = np.column_stack([ones, X])\n",
        "\n",
        "    XTX = X.T.dot(X)\n",
        "    reg = r * np.eye(XTX.shape[0])\n",
        "    XTX = XTX + reg\n",
        "\n",
        "    XTX_inv = np.linalg.inv(XTX)\n",
        "    w = XTX_inv.dot(X.T).dot(y)\n",
        "\n",
        "    return w[0], w[1:]"
      ],
      "metadata": {
        "id": "73eG3xQXkZRO"
      },
      "execution_count": null,
      "outputs": []
    },
    {
      "cell_type": "code",
      "source": [
        "r = 9\n",
        "idx = np.arange(n)\n",
        "np.random.seed(r)\n",
        "np.random.shuffle(idx)\n",
        "df_shuffled = data.iloc[idx]\n",
        "\n",
        "df_train = df_shuffled.iloc[:n_train].copy()\n",
        "df_val = df_shuffled.iloc[n_train:n_train+n_val].copy()\n",
        "df_test = df_shuffled.iloc[n_train+n_val:].copy()\n",
        "\n",
        "frame = [df_train, df_val]\n",
        "df_train_val = pd.concat(frame)\n",
        "\n",
        "df_train_val = df_train_val.reset_index(drop=True)\n",
        "df_test = df_test.reset_index(drop=True)\n",
        "\n",
        "y_train_val_og = df_train_val.median_house_value.values\n",
        "y_test_og = df_test.median_house_value.values\n",
        "\n",
        "y_train_val = np.log1p(y_train_val_og)\n",
        "y_test = np.log1p(y_test_og)\n",
        "\n",
        "del df_train_val['median_house_value']\n",
        "del df_test['median_house_value']\n",
        "\n"
      ],
      "metadata": {
        "id": "UJaezzAYc4bj"
      },
      "execution_count": null,
      "outputs": []
    },
    {
      "cell_type": "code",
      "source": [
        "X_train_val_zero = prepare_X(df_train_val, fill_value = 0)\n",
        "w_0_train_val, w_train_val = train_linear_regression_regular(X_train_val_zero, y_train_val, r=0.001)\n",
        "\n",
        "X_test_zero = prepare_X(df_test, fill_value=0)\n",
        "y_zero_pred_val = w_0_train_val + X_test_zero.dot(w)"
      ],
      "metadata": {
        "id": "0CtGRqZ4grnJ"
      },
      "execution_count": null,
      "outputs": []
    },
    {
      "cell_type": "code",
      "source": [
        "np.round(rmse(y_test, y_zero_pred_val),2)"
      ],
      "metadata": {
        "id": "Yc8gYzuekk2X",
        "outputId": "837f9ed4-0b09-497f-9290-e24e0cbca0cc",
        "colab": {
          "base_uri": "https://localhost:8080/"
        }
      },
      "execution_count": null,
      "outputs": [
        {
          "output_type": "execute_result",
          "data": {
            "text/plain": [
              "0.35"
            ]
          },
          "metadata": {},
          "execution_count": 116
        }
      ]
    }
  ],
  "metadata": {
    "colab": {
      "provenance": [],
      "include_colab_link": true
    },
    "kernelspec": {
      "display_name": "Python 3",
      "name": "python3"
    }
  },
  "nbformat": 4,
  "nbformat_minor": 0
}